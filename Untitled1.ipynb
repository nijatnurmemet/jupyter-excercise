{
 "cells": [
  {
   "cell_type": "code",
   "execution_count": 1,
   "metadata": {},
   "outputs": [
    {
     "name": "stdout",
     "output_type": "stream",
     "text": [
      "Enter Phrase:these words have no meaning\n"
     ]
    }
   ],
   "source": [
    "input_1 = input(\"Enter Phrase:\")\n",
    "# input_2 = input(\"Enter search string\")\n",
    "# print(input_1 + input_2))    "
   ]
  },
  {
   "cell_type": "code",
   "execution_count": 2,
   "metadata": {},
   "outputs": [
    {
     "name": "stdout",
     "output_type": "stream",
     "text": [
      "searchoing word:meaning\n"
     ]
    }
   ],
   "source": [
    "input_2 = input(\"searchoing word:\")"
   ]
  },
  {
   "cell_type": "code",
   "execution_count": 7,
   "metadata": {},
   "outputs": [
    {
     "name": "stdout",
     "output_type": "stream",
     "text": [
      "these words have no meaning\n",
      "meaningmeaning\n",
      "these words have no knxlknxl\n"
     ]
    }
   ],
   "source": [
    "print(input_1)\n",
    "print(input_2 * 2)\n",
    "print((input_1 + input_2).replace(input_2 , \"knxl\"))"
   ]
  },
  {
   "cell_type": "code",
   "execution_count": 8,
   "metadata": {},
   "outputs": [
    {
     "name": "stdout",
     "output_type": "stream",
     "text": [
      "Enter number to be multiplied by 2: 42\n"
     ]
    },
    {
     "data": {
      "text/plain": [
       "42"
      ]
     },
     "execution_count": 8,
     "metadata": {},
     "output_type": "execute_result"
    }
   ],
   "source": [
    "number = input(\"Enter number to be multiplied by 2: \")\n",
    "int(number)"
   ]
  },
  {
   "cell_type": "code",
   "execution_count": 1,
   "metadata": {},
   "outputs": [
    {
     "data": {
      "text/plain": [
       "' 0.2 kg is the weight of the newt.'"
      ]
     },
     "execution_count": 1,
     "metadata": {},
     "output_type": "execute_result"
    }
   ],
   "source": [
    "weight = 0.2\n",
    "animal = \"newt\"\n",
    "f\" {weight} kg is the weight of the {animal}.\"\n"
   ]
  },
  {
   "cell_type": "code",
   "execution_count": 6,
   "metadata": {},
   "outputs": [
    {
     "name": "stdout",
     "output_type": "stream",
     "text": [
      "['a', 'inserted', 'b', 'c']\n",
      "['a', 'b', 'c']\n"
     ]
    }
   ],
   "source": [
    "list_1 = [\"a\" , \"b\" , \"c\"]\n",
    "list_1.insert(1, \"inserted\")\n",
    "print(list_1)\n",
    "del list_1[1]\n",
    "print(list_1)"
   ]
  },
  {
   "cell_type": "code",
   "execution_count": 1,
   "metadata": {},
   "outputs": [
    {
     "name": "stdout",
     "output_type": "stream",
     "text": [
      "[8, 7, 6, 3, 2]\n",
      "[2, 3, 8, 7, 6]\n"
     ]
    }
   ],
   "source": [
    "list_2 = [1, 2, 3, 8, 7, 6]\n",
    "# popped_list = list_2.pop(1) #wheni position is not defined, it is the last item in the list  \n",
    "# print(list_2)\n",
    "# print(popped_list)\n",
    "list_2.remove(1)\n",
    "list_2\n",
    "print(sorted(list_2, reverse = True))\n",
    "print(list_2)\n",
    "list_2.reverse()"
   ]
  },
  {
   "cell_type": "code",
   "execution_count": 13,
   "metadata": {},
   "outputs": [
    {
     "name": "stdout",
     "output_type": "stream",
     "text": [
      "the price of the item is:120\n",
      "the steuersatz is:19\n",
      "142.8\n"
     ]
    }
   ],
   "source": [
    "price =int(input(\"the price of the item is:\"))\n",
    "steuersatz =int(input(\"the steuersatz is:\"))\n",
    "steuer = price * (steuersatz/100)\n",
    "the_total_price = price + steuer\n",
    "print(the_total_price)"
   ]
  },
  {
   "cell_type": "code",
   "execution_count": 19,
   "metadata": {},
   "outputs": [
    {
     "name": "stdout",
     "output_type": "stream",
     "text": [
      "hello nijatthanks for your logging in again\n",
      "hello xokithanks for your logging in again\n",
      "hello dilmuratthanks for your logging in again\n",
      "Hello Admin, would you like to see a status report ?\n"
     ]
    }
   ],
   "source": [
    "admin_list = [\"nijat\" , \"xoki\" , \"dilmurat\" , \"admin\"]\n",
    "if admin_list:                                                          #check if the list is empty\n",
    "    for admin in admin_list:\n",
    "        if admin == \"admin\":\n",
    "            print(\"Hello Admin, would you like to see a status report ?\")\n",
    "        else:\n",
    "            print(\"hello \" + admin + \"thanks for your logging in again\")\n",
    "else:\n",
    "    print(\"we need to find a user\")"
   ]
  },
  {
   "cell_type": "code",
   "execution_count": 21,
   "metadata": {},
   "outputs": [
    {
     "name": "stdout",
     "output_type": "stream",
     "text": [
      "the user name is available\n",
      "the person need to enter a new user name\n",
      "the person need to enter a new user name\n",
      "the user name is available\n"
     ]
    }
   ],
   "source": [
    "current_users = [\"ali\" , \"mete\" , \"emre\" , \"xoki\" , \"nijat\"]\n",
    "new_users = [\"dili\" , \"nijat\" , \"xoki\" , \"umit\"]\n",
    "for new_users in new_users:\n",
    "    if new_users in current_users:\n",
    "        print(\"the person need to enter a new user name\")\n",
    "    else:\n",
    "        print(\"the user name is available\")"
   ]
  },
  {
   "cell_type": "code",
   "execution_count": 24,
   "metadata": {},
   "outputs": [
    {
     "name": "stdout",
     "output_type": "stream",
     "text": [
      "the engdung is 'st'\n",
      "the engdung is 'nd'\n",
      "the engdung is 'rd'\n",
      "the engdung is 'th'\n",
      "the engdung is 'th'\n",
      "the engdung is 'th'\n",
      "the engdung is 'th'\n",
      "the engdung is 'th'\n",
      "the engdung is 'th'\n"
     ]
    }
   ],
   "source": [
    "numbers = [1,2,3,4,5,6,7,8,9]\n",
    "for numbers in numbers:\n",
    "    if numbers > 3:\n",
    "        print(\"the engdung is 'th'\")\n",
    "    elif numbers == 3:\n",
    "        print(\"the engdung is 'rd'\")\n",
    "    elif numbers == 2:\n",
    "        print(\"the engdung is 'nd'\")\n",
    "    elif numbers == 1:\n",
    "        print(\"the engdung is 'st'\")"
   ]
  },
  {
   "cell_type": "code",
   "execution_count": 26,
   "metadata": {},
   "outputs": [
    {
     "name": "stdout",
     "output_type": "stream",
     "text": [
      "He is Xoki Tohi, he is 28 years old and he lives in Freiburg\n"
     ]
    }
   ],
   "source": [
    "new_dic = {\n",
    "    \"first_name\": \"xoki\",\n",
    "    \"last_name\" : \"tohi\",\n",
    "    \"age\" : 28,\n",
    "    \"city\" : \"Freiburg\",\n",
    "}\n",
    "print(\"He is \" +\n",
    "     new_dic[\"first_name\"].title() +\n",
    "      \" \" +\n",
    "     new_dic[\"last_name\"].title() +\n",
    "     \", he is \" +\n",
    "     str(new_dic[\"age\"])+\n",
    "     \" years old and he lives in \"+\n",
    "     new_dic[\"city\"].title()\n",
    "     )"
   ]
  },
  {
   "cell_type": "code",
   "execution_count": 64,
   "metadata": {},
   "outputs": [
    {
     "name": "stdout",
     "output_type": "stream",
     "text": [
      "\n",
      "key: first_name\n",
      "info: xoki\n",
      "\n",
      "key: last_name\n",
      "info: tohi\n",
      "\n",
      "key: age\n",
      "info: 28\n",
      "\n",
      "key: city\n",
      "info: Freiburg\n",
      "xoki\n",
      "tohi\n",
      "28\n",
      "Freiburg\n",
      "\tfirst_name\n",
      "\tlast_name\n",
      "\tage\n",
      "\tcity\n"
     ]
    },
    {
     "data": {
      "text/plain": [
       "['first_name', 'last_name', 'age', 'city']"
      ]
     },
     "execution_count": 64,
     "metadata": {},
     "output_type": "execute_result"
    }
   ],
   "source": [
    "for key , value in new_dic.items():\n",
    "    print(\"\\nkey:\", key)\n",
    "    print(\"info:\", value)   \n",
    "for value in new_dic.values():\n",
    "    print(value)\n",
    "for key in new_dic:\n",
    "    print(\"\\t\" + key)\n",
    "list(new_dic.keys())"
   ]
  },
  {
   "cell_type": "code",
   "execution_count": 69,
   "metadata": {},
   "outputs": [],
   "source": [
    "favorite_languages = {\n",
    "'jen': ['python', 'ruby'],\n",
    "'sarah': ['c'],\n",
    "'edward': ['ruby', 'go'],\n",
    "'phil': ['python', 'haskell'],\n",
    "}"
   ]
  },
  {
   "cell_type": "code",
   "execution_count": 85,
   "metadata": {},
   "outputs": [
    {
     "name": "stdout",
     "output_type": "stream",
     "text": [
      "\n",
      "jen`s favourite language is ['python', 'ruby']\n",
      "\n",
      "sarah`s favourite language is ['c']\n",
      "\n",
      "edward`s favourite language is ['ruby', 'go']\n",
      "\n",
      "phil`s favourite language is ['python', 'haskell']\n"
     ]
    }
   ],
   "source": [
    "for name , language in favorite_languages.items():\n",
    "    print(\"\\n\" + name + \"`s favourite language is \" + str(language))"
   ]
  },
  {
   "cell_type": "code",
   "execution_count": 88,
   "metadata": {},
   "outputs": [
    {
     "name": "stdout",
     "output_type": "stream",
     "text": [
      "\n",
      "jen`s favourite language is \n",
      "\tpython\n",
      "\truby\n",
      "\n",
      "sarah`s favourite language is \n",
      "\tc\n",
      "\n",
      "edward`s favourite language is \n",
      "\truby\n",
      "\tgo\n",
      "\n",
      "phil`s favourite language is \n",
      "\tpython\n",
      "\thaskell\n"
     ]
    }
   ],
   "source": [
    "for name , language in favorite_languages.items():          #this is better than the previous one \n",
    "    print(\"\\n\" + name + \"`s favourite language is \")\n",
    "    for language in language:\n",
    "        print(\"\\t\" + language)"
   ]
  }
 ],
 "metadata": {
  "kernelspec": {
   "display_name": "Python 3",
   "language": "python",
   "name": "python3"
  },
  "language_info": {
   "codemirror_mode": {
    "name": "ipython",
    "version": 3
   },
   "file_extension": ".py",
   "mimetype": "text/x-python",
   "name": "python",
   "nbconvert_exporter": "python",
   "pygments_lexer": "ipython3",
   "version": "3.7.7"
  }
 },
 "nbformat": 4,
 "nbformat_minor": 4
}
