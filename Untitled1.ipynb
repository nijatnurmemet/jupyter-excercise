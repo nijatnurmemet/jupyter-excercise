{
 "cells": [
  {
   "cell_type": "code",
   "execution_count": 1,
   "metadata": {},
   "outputs": [
    {
     "name": "stdout",
     "output_type": "stream",
     "text": [
      "Enter Phrase:these words have no meaning\n"
     ]
    }
   ],
   "source": [
    "input_1 = input(\"Enter Phrase:\")\n",
    "# input_2 = input(\"Enter search string\")\n",
    "# print(input_1 + input_2))    "
   ]
  },
  {
   "cell_type": "code",
   "execution_count": 2,
   "metadata": {},
   "outputs": [
    {
     "name": "stdout",
     "output_type": "stream",
     "text": [
      "searchoing word:meaning\n"
     ]
    }
   ],
   "source": [
    "input_2 = input(\"searchoing word:\")"
   ]
  },
  {
   "cell_type": "code",
   "execution_count": 7,
   "metadata": {},
   "outputs": [
    {
     "name": "stdout",
     "output_type": "stream",
     "text": [
      "these words have no meaning\n",
      "meaningmeaning\n",
      "these words have no knxlknxl\n"
     ]
    }
   ],
   "source": [
    "print(input_1)\n",
    "print(input_2 * 2)\n",
    "print((input_1 + input_2).replace(input_2 , \"knxl\"))"
   ]
  },
  {
   "cell_type": "code",
   "execution_count": 8,
   "metadata": {},
   "outputs": [
    {
     "name": "stdout",
     "output_type": "stream",
     "text": [
      "Enter number to be multiplied by 2: 42\n"
     ]
    },
    {
     "data": {
      "text/plain": [
       "42"
      ]
     },
     "execution_count": 8,
     "metadata": {},
     "output_type": "execute_result"
    }
   ],
   "source": [
    "number = input(\"Enter number to be multiplied by 2: \")\n",
    "int(number)"
   ]
  },
  {
   "cell_type": "code",
   "execution_count": 1,
   "metadata": {},
   "outputs": [
    {
     "data": {
      "text/plain": [
       "' 0.2 kg is the weight of the newt.'"
      ]
     },
     "execution_count": 1,
     "metadata": {},
     "output_type": "execute_result"
    }
   ],
   "source": [
    "weight = 0.2\n",
    "animal = \"newt\"\n",
    "f\" {weight} kg is the weight of the {animal}.\"\n"
   ]
  },
  {
   "cell_type": "code",
   "execution_count": 6,
   "metadata": {},
   "outputs": [
    {
     "name": "stdout",
     "output_type": "stream",
     "text": [
      "['a', 'inserted', 'b', 'c']\n",
      "['a', 'b', 'c']\n"
     ]
    }
   ],
   "source": [
    "list_1 = [\"a\" , \"b\" , \"c\"]\n",
    "list_1.insert(1, \"inserted\")\n",
    "print(list_1)\n",
    "del list_1[1]\n",
    "print(list_1)"
   ]
  },
  {
   "cell_type": "code",
   "execution_count": 1,
   "metadata": {},
   "outputs": [
    {
     "name": "stdout",
     "output_type": "stream",
     "text": [
      "[8, 7, 6, 3, 2]\n",
      "[2, 3, 8, 7, 6]\n"
     ]
    }
   ],
   "source": [
    "list_2 = [1, 2, 3, 8, 7, 6]\n",
    "# popped_list = list_2.pop(1) #wheni position is not defined, it is the last item in the list  \n",
    "# print(list_2)\n",
    "# print(popped_list)\n",
    "list_2.remove(1)\n",
    "list_2\n",
    "print(sorted(list_2, reverse = True))\n",
    "print(list_2)\n",
    "list_2.reverse()"
   ]
  },
  {
   "cell_type": "code",
   "execution_count": 13,
   "metadata": {},
   "outputs": [
    {
     "name": "stdout",
     "output_type": "stream",
     "text": [
      "the price of the item is:120\n",
      "the steuersatz is:19\n",
      "142.8\n"
     ]
    }
   ],
   "source": [
    "price =int(input(\"the price of the item is:\"))\n",
    "steuersatz =int(input(\"the steuersatz is:\"))\n",
    "steuer = price * (steuersatz/100)\n",
    "the_total_price = price + steuer\n",
    "print(the_total_price)"
   ]
  },
  {
   "cell_type": "code",
   "execution_count": 19,
   "metadata": {},
   "outputs": [
    {
     "name": "stdout",
     "output_type": "stream",
     "text": [
      "hello nijatthanks for your logging in again\n",
      "hello xokithanks for your logging in again\n",
      "hello dilmuratthanks for your logging in again\n",
      "Hello Admin, would you like to see a status report ?\n"
     ]
    }
   ],
   "source": [
    "admin_list = [\"nijat\" , \"xoki\" , \"dilmurat\" , \"admin\"]\n",
    "if admin_list:                                                          #check if the list is empty\n",
    "    for admin in admin_list:\n",
    "        if admin == \"admin\":\n",
    "            print(\"Hello Admin, would you like to see a status report ?\")\n",
    "        else:\n",
    "            print(\"hello \" + admin + \"thanks for your logging in again\")\n",
    "else:\n",
    "    print(\"we need to find a user\")"
   ]
  },
  {
   "cell_type": "code",
   "execution_count": 21,
   "metadata": {},
   "outputs": [
    {
     "name": "stdout",
     "output_type": "stream",
     "text": [
      "the user name is available\n",
      "the person need to enter a new user name\n",
      "the person need to enter a new user name\n",
      "the user name is available\n"
     ]
    }
   ],
   "source": [
    "current_users = [\"ali\" , \"mete\" , \"emre\" , \"xoki\" , \"nijat\"]\n",
    "new_users = [\"dili\" , \"nijat\" , \"xoki\" , \"umit\"]\n",
    "for new_users in new_users:\n",
    "    if new_users in current_users:\n",
    "        print(\"the person need to enter a new user name\")\n",
    "    else:\n",
    "        print(\"the user name is available\")"
   ]
  },
  {
   "cell_type": "code",
   "execution_count": 24,
   "metadata": {},
   "outputs": [
    {
     "name": "stdout",
     "output_type": "stream",
     "text": [
      "the engdung is 'st'\n",
      "the engdung is 'nd'\n",
      "the engdung is 'rd'\n",
      "the engdung is 'th'\n",
      "the engdung is 'th'\n",
      "the engdung is 'th'\n",
      "the engdung is 'th'\n",
      "the engdung is 'th'\n",
      "the engdung is 'th'\n"
     ]
    }
   ],
   "source": [
    "numbers = [1,2,3,4,5,6,7,8,9]\n",
    "for numbers in numbers:\n",
    "    if numbers > 3:\n",
    "        print(\"the engdung is 'th'\")\n",
    "    elif numbers == 3:\n",
    "        print(\"the engdung is 'rd'\")\n",
    "    elif numbers == 2:\n",
    "        print(\"the engdung is 'nd'\")\n",
    "    elif numbers == 1:\n",
    "        print(\"the engdung is 'st'\")"
   ]
  },
  {
   "cell_type": "code",
   "execution_count": 26,
   "metadata": {},
   "outputs": [
    {
     "name": "stdout",
     "output_type": "stream",
     "text": [
      "He is Xoki Tohi, he is 28 years old and he lives in Freiburg\n"
     ]
    }
   ],
   "source": [
    "new_dic = {\n",
    "    \"first_name\": \"xoki\",\n",
    "    \"last_name\" : \"tohi\",\n",
    "    \"age\" : 28,\n",
    "    \"city\" : \"Freiburg\",\n",
    "}\n",
    "print(\"He is \" +\n",
    "     new_dic[\"first_name\"].title() +\n",
    "      \" \" +\n",
    "     new_dic[\"last_name\"].title() +\n",
    "     \", he is \" +\n",
    "     str(new_dic[\"age\"])+\n",
    "     \" years old and he lives in \"+\n",
    "     new_dic[\"city\"].title()\n",
    "     )"
   ]
  },
  {
   "cell_type": "code",
   "execution_count": 64,
   "metadata": {},
   "outputs": [
    {
     "name": "stdout",
     "output_type": "stream",
     "text": [
      "\n",
      "key: first_name\n",
      "info: xoki\n",
      "\n",
      "key: last_name\n",
      "info: tohi\n",
      "\n",
      "key: age\n",
      "info: 28\n",
      "\n",
      "key: city\n",
      "info: Freiburg\n",
      "xoki\n",
      "tohi\n",
      "28\n",
      "Freiburg\n",
      "\tfirst_name\n",
      "\tlast_name\n",
      "\tage\n",
      "\tcity\n"
     ]
    },
    {
     "data": {
      "text/plain": [
       "['first_name', 'last_name', 'age', 'city']"
      ]
     },
     "execution_count": 64,
     "metadata": {},
     "output_type": "execute_result"
    }
   ],
   "source": [
    "for key , value in new_dic.items():\n",
    "    print(\"\\nkey:\", key)\n",
    "    print(\"info:\", value)   \n",
    "for value in new_dic.values():\n",
    "    print(value)\n",
    "for key in new_dic:\n",
    "    print(\"\\t\" + key)\n",
    "list(new_dic.keys())"
   ]
  },
  {
   "cell_type": "code",
   "execution_count": 69,
   "metadata": {},
   "outputs": [],
   "source": [
    "favorite_languages = {\n",
    "'jen': ['python', 'ruby'],\n",
    "'sarah': ['c'],\n",
    "'edward': ['ruby', 'go'],\n",
    "'phil': ['python', 'haskell'],\n",
    "}"
   ]
  },
  {
   "cell_type": "code",
   "execution_count": 85,
   "metadata": {},
   "outputs": [
    {
     "name": "stdout",
     "output_type": "stream",
     "text": [
      "\n",
      "jen`s favourite language is ['python', 'ruby']\n",
      "\n",
      "sarah`s favourite language is ['c']\n",
      "\n",
      "edward`s favourite language is ['ruby', 'go']\n",
      "\n",
      "phil`s favourite language is ['python', 'haskell']\n"
     ]
    }
   ],
   "source": [
    "for name , language in favorite_languages.items():\n",
    "    print(\"\\n\" + name + \"`s favourite language is \" + str(language))"
   ]
  },
  {
   "cell_type": "code",
   "execution_count": 88,
   "metadata": {},
   "outputs": [
    {
     "name": "stdout",
     "output_type": "stream",
     "text": [
      "\n",
      "jen`s favourite language is \n",
      "\tpython\n",
      "\truby\n",
      "\n",
      "sarah`s favourite language is \n",
      "\tc\n",
      "\n",
      "edward`s favourite language is \n",
      "\truby\n",
      "\tgo\n",
      "\n",
      "phil`s favourite language is \n",
      "\tpython\n",
      "\thaskell\n"
     ]
    }
   ],
   "source": [
    "for name , language in favorite_languages.items():          #this is better than the previous one \n",
    "    print(\"\\n\" + name + \"`s favourite language is \")\n",
    "    for language in language:\n",
    "        print(\"\\t\" + language)"
   ]
  },
  {
   "cell_type": "code",
   "execution_count": 2,
   "metadata": {},
   "outputs": [
    {
     "name": "stdout",
     "output_type": "stream",
     "text": [
      "Tell me something, and I will repeat it back to you: prompt = \"If you tell us who you are, we can personalize the messages you see.\" prompt += \"\\nWhat is your first name? \" name = input(prompt) print(\"\\nHello, \" + name + \"!\")\n",
      "prompt = \"If you tell us who you are, we can personalize the messages you see.\" prompt += \"\\nWhat is your first name? \" name = input(prompt) print(\"\\nHello, \" + name + \"!\")\n"
     ]
    }
   ],
   "source": [
    "message = input(\"Tell me something, and I will repeat it back to you: \")\n",
    "print(message)"
   ]
  },
  {
   "cell_type": "code",
   "execution_count": 6,
   "metadata": {},
   "outputs": [
    {
     "name": "stdout",
     "output_type": "stream",
     "text": [
      "If you tell us who you are, we can personalize the messages you see. \n",
      "What is your first name21\n",
      "\n",
      "Hello, 21!\n"
     ]
    }
   ],
   "source": [
    "prompt = \"If you tell us who you are, we can personalize the messages you see. \\nWhat is your first name\"\n",
    "name = input(prompt)\n",
    "print(\"\\nHello, \" + name + \"!\")"
   ]
  },
  {
   "cell_type": "code",
   "execution_count": 11,
   "metadata": {},
   "outputs": [
    {
     "name": "stdout",
     "output_type": "stream",
     "text": [
      "what kind of rental car would like?audi\n",
      "\n",
      "Let me see if I can find you a Audi\n"
     ]
    }
   ],
   "source": [
    "car = input(\"what kind of rental car would like?\")\n",
    "print(\"\\nLet me see if I can find you a \" + car.capitalize())\n"
   ]
  },
  {
   "cell_type": "code",
   "execution_count": 13,
   "metadata": {},
   "outputs": [
    {
     "name": "stdout",
     "output_type": "stream",
     "text": [
      "How many people in the dinner group ?7\n",
      "your table is ready\n"
     ]
    }
   ],
   "source": [
    "dinnergroup = input(\"How many people in the dinner group ?\")\n",
    "dinnergroup = int(dinnergroup)\n",
    "if dinnergroup > 8:\n",
    "    print(\"you will have to wait for a table\")\n",
    "else:\n",
    "    print(\"your table is ready\")"
   ]
  },
  {
   "cell_type": "code",
   "execution_count": 1,
   "metadata": {
    "scrolled": true
   },
   "outputs": [
    {
     "name": "stdout",
     "output_type": "stream",
     "text": [
      "enter a number 2\n",
      "2 is not a multiple of 10\n"
     ]
    }
   ],
   "source": [
    "number = input(\"enter a number \")\n",
    "number = int(number)\n",
    "if number % 10 == 0:\n",
    "    print(str(number) + \" is a multipe of 10\")\n",
    "else:\n",
    "    print(str(number) + \" is not a multiple of 10\")"
   ]
  },
  {
   "cell_type": "code",
   "execution_count": 1,
   "metadata": {},
   "outputs": [
    {
     "name": "stdout",
     "output_type": "stream",
     "text": [
      "\n",
      "Tell me something, and I will repeat it back to you:\n",
      "Enter 'quit' to end the program.hello\n",
      "hello\n",
      "\n",
      "Tell me something, and I will repeat it back to you:\n",
      "Enter 'quit' to end the program.again\n",
      "again\n",
      "\n",
      "Tell me something, and I will repeat it back to you:\n",
      "Enter 'quit' to end the program.quit\n",
      "quit\n"
     ]
    }
   ],
   "source": [
    "prompt = \"\\nTell me something, and I will repeat it back to you:\\nEnter 'quit' to end the program.\"\n",
    "message = \"\"\n",
    "while message != \"quit\":\n",
    "    message = input(prompt)\n",
    "    print(message)"
   ]
  },
  {
   "cell_type": "code",
   "execution_count": 1,
   "metadata": {},
   "outputs": [
    {
     "name": "stdout",
     "output_type": "stream",
     "text": [
      "\n",
      "Please enter the name of a city you have visited: \n",
      "(Enter 'quit' when you are finished.istanbul\n",
      "I'd love to go to Istanbul!\n",
      "\n",
      "Please enter the name of a city you have visited: \n",
      "(Enter 'quit' when you are finished.quit\n"
     ]
    }
   ],
   "source": [
    "prompt = \"\\nPlease enter the name of a city you have visited: \\n(Enter 'quit' when you are finished.\"\n",
    "while True:\n",
    "    city = input(prompt)\n",
    "    if city == 'quit':\n",
    "        break\n",
    "    else:\n",
    "        print(\"I'd love to go to \" + city.title() + \"!\")"
   ]
  },
  {
   "cell_type": "code",
   "execution_count": 7,
   "metadata": {},
   "outputs": [
    {
     "name": "stdout",
     "output_type": "stream",
     "text": [
      "Add to total: 1\n",
      "Add to total: \n",
      "Total =  1.00\n",
      "The mean is 1.00\n"
     ]
    }
   ],
   "source": [
    "total = 0.00\n",
    "x = 0\n",
    "while True:\n",
    "    number = input(\"Add to total: \")\n",
    "    if len(number) == 0:\n",
    "        break\n",
    "    total = total + float(number)\n",
    "    x = x + 1\n",
    "print(f\"Total = {total: .2f}\")\n",
    "m_wert = total / x\n",
    "print(f\"The mean is {m_wert:.2f}\")"
   ]
  },
  {
   "cell_type": "code",
   "execution_count": 46,
   "metadata": {},
   "outputs": [
    {
     "name": "stdout",
     "output_type": "stream",
     "text": [
      "1\n",
      "3\n",
      "5\n",
      "7\n",
      "9\n"
     ]
    }
   ],
   "source": [
    "current_number = 0\n",
    "while current_number < 10:\n",
    "    current_number += 1\n",
    "    if current_number % 2 == 0:\n",
    "        continue\n",
    "    print(current_number)"
   ]
  },
  {
   "cell_type": "code",
   "execution_count": 1,
   "metadata": {},
   "outputs": [
    {
     "name": "stdout",
     "output_type": "stream",
     "text": [
      "\n",
      "enter a Pizza topping: mushroom\n",
      "you will add mushroom topping to the pizza\n",
      "\n",
      "enter a Pizza topping: chilli\n",
      "you will add chilli topping to the pizza\n",
      "\n",
      "enter a Pizza topping: kase\n",
      "you will add kase topping to the pizza\n",
      "\n",
      "enter a Pizza topping: quit\n"
     ]
    }
   ],
   "source": [
    "while True:\n",
    "    topping = input(\"\\nenter a Pizza topping: \")\n",
    "    if topping == \"quit\":\n",
    "        break\n",
    "    else:\n",
    "        print(\"you will add \" + topping + \" topping to the pizza\")"
   ]
  },
  {
   "cell_type": "code",
   "execution_count": 2,
   "metadata": {},
   "outputs": [
    {
     "name": "stdout",
     "output_type": "stream",
     "text": [
      "please tell me your age: 1\n",
      "you can have a free movie ticekt\n",
      "please tell me your age: 12\n",
      "your movie ticket is 10 Euro\n",
      "please tell me your age: 20\n",
      "your ticket is 15 Euro\n",
      "please tell me your age: \n",
      "finish\n"
     ]
    }
   ],
   "source": [
    "while True:\n",
    "    age = input(\"please tell me your age: \")\n",
    "    if age == \"\":\n",
    "        print(\"finish\")\n",
    "        break\n",
    "    age =int(age)\n",
    "    if age < 3:\n",
    "        print(\"you can have a free movie ticekt\")\n",
    "    elif age <= 12:\n",
    "        print(\"your movie ticket is 10 Euro\")\n",
    "    else:\n",
    "        print(\"your ticket is 15 Euro\")\n",
    "    "
   ]
  },
  {
   "cell_type": "code",
   "execution_count": 1,
   "metadata": {},
   "outputs": [
    {
     "name": "stdout",
     "output_type": "stream",
     "text": [
      "Verifying user: Candace\n",
      "Verifying user: Brian\n",
      "Verifying user: Alice\n"
     ]
    }
   ],
   "source": [
    "unconfirmed_users = ['alice', 'brian', 'candace']\n",
    "confirmed_users = []\n",
    "while unconfirmed_users:\n",
    "    current_user = unconfirmed_users.pop()\n",
    "    print(\"Verifying user: \" + current_user.title())\n",
    "    confirmed_users.append(current_user)"
   ]
  },
  {
   "cell_type": "code",
   "execution_count": 6,
   "metadata": {},
   "outputs": [
    {
     "name": "stdout",
     "output_type": "stream",
     "text": [
      "Verifying user: Candace\n",
      "Verifying user: Brian\n",
      "Verifying user: Alice\n",
      "\n",
      "The following users are confirmed: \n",
      "candace\n",
      "brian\n",
      "alice\n"
     ]
    }
   ],
   "source": [
    "unconfirmed_users = ['alice', 'brian', 'candace']\n",
    "confirmed_users = []\n",
    "while True:\n",
    "    if unconfirmed_users == []:\n",
    "        break\n",
    "    else:\n",
    "        current_user = unconfirmed_users.pop()\n",
    "        print(\"Verifying user: \" + current_user.title())\n",
    "        confirmed_users.append(current_user)\n",
    "print(\"\\nThe following users are confirmed: \")\n",
    "for user in confirmed_users:\n",
    "    print(user)"
   ]
  },
  {
   "cell_type": "code",
   "execution_count": 3,
   "metadata": {},
   "outputs": [
    {
     "name": "stdout",
     "output_type": "stream",
     "text": [
      "\n",
      "What is your name? szf\n",
      "Which mountain would you like to climb someday? fd\n",
      "is there someone else ? (yes/ no) f\n",
      "\n",
      "What is your name? fd\n",
      "Which mountain would you like to climb someday? ffd\n",
      "is there someone else ? (yes/ no) fdf\n",
      "\n",
      "What is your name? fd\n",
      "Which mountain would you like to climb someday? \n",
      "is there someone else ? (yes/ no) df\n",
      "\n",
      "What is your name? df\n",
      "Which mountain would you like to climb someday? dfd\n",
      "is there someone else ? (yes/ no) fd\n",
      "\n",
      "What is your name? f\n",
      "Which mountain would you like to climb someday? fd\n",
      "is there someone else ? (yes/ no) no\n",
      "{'szf': 'fd', 'fd': '', 'df': 'dfd', 'f': 'fd'}\n"
     ]
    }
   ],
   "source": [
    "responses = {}\n",
    "polling_active = True\n",
    "\n",
    "while polling_active:\n",
    "    name = input(\"\\nWhat is your name? \")\n",
    "    response = input(\"Which mountain would you like to climb someday? \")\n",
    "    responses[name] = response\n",
    "    repeat = input(\"is there someone else ? (yes/ no) \")\n",
    "    if repeat == 'no':\n",
    "        polling_active = False\n",
    "  \n",
    "print(responses)"
   ]
  }
 ],
 "metadata": {
  "kernelspec": {
   "display_name": "Python 3",
   "language": "python",
   "name": "python3"
  },
  "language_info": {
   "codemirror_mode": {
    "name": "ipython",
    "version": 3
   },
   "file_extension": ".py",
   "mimetype": "text/x-python",
   "name": "python",
   "nbconvert_exporter": "python",
   "pygments_lexer": "ipython3",
   "version": "3.7.7"
  }
 },
 "nbformat": 4,
 "nbformat_minor": 4
}
